{
 "cells": [
  {
   "cell_type": "code",
   "execution_count": 3,
   "id": "e1252697",
   "metadata": {},
   "outputs": [
    {
     "name": "stdout",
     "output_type": "stream",
     "text": [
      "The location condition is {'A': 1, 'B': 1}\n",
      "The vaccum is placed at location A\n",
      "A is clean\n"
     ]
    },
    {
     "ename": "AttributeError",
     "evalue": "'Environment' object has no attribute 'Location'",
     "output_type": "error",
     "traceback": [
      "\u001b[1;31m---------------------------------------------------------------------------\u001b[0m",
      "\u001b[1;31mAttributeError\u001b[0m                            Traceback (most recent call last)",
      "Cell \u001b[1;32mIn[3], line 39\u001b[0m\n\u001b[0;32m     36\u001b[0m         \u001b[38;5;28mprint\u001b[39m(Environment\u001b[38;5;241m.\u001b[39mlocationCondition)\n\u001b[0;32m     38\u001b[0m myEnvironnment \u001b[38;5;241m=\u001b[39m Environment()\n\u001b[1;32m---> 39\u001b[0m myAgent \u001b[38;5;241m=\u001b[39m \u001b[43mAgent\u001b[49m\u001b[43m(\u001b[49m\u001b[43mmyEnvironnment\u001b[49m\u001b[43m)\u001b[49m\n",
      "Cell \u001b[1;32mIn[3], line 29\u001b[0m, in \u001b[0;36mAgent.__init__\u001b[1;34m(self, Environment)\u001b[0m\n\u001b[0;32m     26\u001b[0m \u001b[38;5;28;01melse\u001b[39;00m:\n\u001b[0;32m     27\u001b[0m     \u001b[38;5;28mprint\u001b[39m(Environment\u001b[38;5;241m.\u001b[39mvaccumLocation, \u001b[38;5;124m'\u001b[39m\u001b[38;5;124mis clean\u001b[39m\u001b[38;5;124m'\u001b[39m)\n\u001b[1;32m---> 29\u001b[0m newIndex \u001b[38;5;241m=\u001b[39m \u001b[43mEnvironment\u001b[49m\u001b[38;5;241;43m.\u001b[39;49m\u001b[43mLocation\u001b[49m\u001b[38;5;241m.\u001b[39mindex(Environment\u001b[38;5;241m.\u001b[39mvaccumLocation) \u001b[38;5;241m+\u001b[39m \u001b[38;5;241m1\u001b[39m\n\u001b[0;32m     30\u001b[0m \u001b[38;5;28;01mif\u001b[39;00m newIndex \u001b[38;5;241m==\u001b[39m \u001b[38;5;241m2\u001b[39m:\n\u001b[0;32m     31\u001b[0m     newIndex \u001b[38;5;241m=\u001b[39m \u001b[38;5;241m0\u001b[39m\n",
      "\u001b[1;31mAttributeError\u001b[0m: 'Environment' object has no attribute 'Location'"
     ]
    }
   ],
   "source": [
    "# This is a simple vaccum cleaner reflex agent\n",
    "import random\n",
    "\n",
    "class Environment(object):\n",
    "    def __init__(self):\n",
    "        # instantiate the locations and conditions. 0 = clean and 1 = dirty\n",
    "        self.location = ['A', 'B']\n",
    "        self.locationCondition = {'A':'0', 'B':'0'}\n",
    "        \n",
    "        # randomize location conditions andplacing vaccum in a random location\n",
    "        self.locationCondition['A'] = random.randint(0,1)\n",
    "        self.locationCondition['B'] = random.randint(0,1)\n",
    "        self.vaccumLocation = random.choice(self.location)\n",
    "\n",
    "class Agent(Environment):\n",
    "    def __init__(self, Environment):\n",
    "        print('The location condition is', Environment.locationCondition)\n",
    "        print('The vaccum is placed at location', Environment.vaccumLocation)\n",
    "        \n",
    "        # actuator condition\n",
    "        count = 0\n",
    "        while count<2:\n",
    "            if Environment.locationCondition[Environment.vaccumLocation] == '1':\n",
    "                Environment.locationCondition[Environment.vaccumLocation] = 0;\n",
    "                print(Environment.vaccumLocation, 'has been cleaned')\n",
    "            else:\n",
    "                print(Environment.vaccumLocation, 'is clean')\n",
    "            \n",
    "            newIndex = Environment.Location.index(Environment.vaccumLocation) + 1\n",
    "            if newIndex == 2:\n",
    "                newIndex = 0\n",
    "            Environment.vaccumLocation = Environment.location[newIndex]\n",
    "            count += 1\n",
    "            \n",
    "        # done cleaning\n",
    "        print(Environment.locationCondition)\n",
    "        \n",
    "myEnvironnment = Environment()\n",
    "myAgent = Agent(myEnvironnment)\n",
    "\n",
    "        \n",
    "        "
   ]
  }
 ],
 "metadata": {
  "kernelspec": {
   "display_name": "Python 3 (ipykernel)",
   "language": "python",
   "name": "python3"
  },
  "language_info": {
   "codemirror_mode": {
    "name": "ipython",
    "version": 3
   },
   "file_extension": ".py",
   "mimetype": "text/x-python",
   "name": "python",
   "nbconvert_exporter": "python",
   "pygments_lexer": "ipython3",
   "version": "3.10.6"
  }
 },
 "nbformat": 4,
 "nbformat_minor": 5
}

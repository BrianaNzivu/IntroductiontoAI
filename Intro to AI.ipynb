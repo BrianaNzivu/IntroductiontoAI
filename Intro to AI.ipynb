{
 "cells": [
  {
   "cell_type": "code",
   "execution_count": 7,
   "id": "caeee9aa",
   "metadata": {},
   "outputs": [
    {
     "name": "stdout",
     "output_type": "stream",
     "text": [
      "The location is B\n",
      "The condition is {'A': 1, 'B': 0}\n",
      "B Is clean\n",
      "A Has been cleaned\n",
      "Location Condition {'A': 0, 'B': 0}\n"
     ]
    }
   ],
   "source": [
    "# simple reflex agent\n",
    "import random\n",
    "class Environment (object):\n",
    "    def __init__(self):\n",
    "        self.location = ['A', 'B']\n",
    "        self.locationCondition = {'A': '0', \n",
    "                                  'B': '0'}\n",
    "        self.vaccumLocation = random.choice(self.location)\n",
    "        self.locationCondition['A'] = random.randint(0, 1)\n",
    "        self.locationCondition['B'] = random.randint(0, 1)\n",
    "        \n",
    "class Agent (Environment):\n",
    "    def __init__ (self, Environment):\n",
    "        print('The location is', Environment.vaccumLocation)\n",
    "        print('The condition is', Environment.locationCondition)\n",
    "        \n",
    "        count = 0\n",
    "        while count<2:\n",
    "            if Environment.locationCondition[Environment.vaccumLocation] == 1:\n",
    "                Environment.locationCondition[Environment.vaccumLocation] = 0\n",
    "                print(Environment.vaccumLocation, 'Has been cleaned')\n",
    "                \n",
    "            else:\n",
    "                 print(Environment.vaccumLocation, 'Is clean')\n",
    "                    \n",
    "            newIndex = Environment.location.index(Environment.vaccumLocation) + 1\n",
    "            if newIndex == 2:\n",
    "                newIndex = 0\n",
    "            Environment.vaccumLocation = Environment.location[newIndex]\n",
    "            count += 1\n",
    "        print('Location Condition', Environment.locationCondition)\n",
    "        \n",
    "myEnvironnment = Environment()\n",
    "myAgent = Agent(myEnvironnment)\n"
   ]
  },
  {
   "cell_type": "code",
   "execution_count": 15,
   "id": "e16137c5",
   "metadata": {},
   "outputs": [
    {
     "name": "stdout",
     "output_type": "stream",
     "text": [
      "The location is B\n",
      "The condition is {'A': 0, 'B': 1}\n",
      "Cleaning mode {'A': 'L', 'B': 'T'}\n",
      "B Has been cleaned\n",
      "A Is clean\n",
      "Location Condition {'A': 0, 'B': 0}\n",
      "Cleaning mode {'A': 'L', 'B': 'T'}\n",
      "The location is B\n",
      "The condition is {'A': 1, 'B': 0}\n",
      "Cleaning mode {'A': 'L', 'B': 'T'}\n",
      "B Is clean\n",
      "A Has been cleaned\n",
      "Location Condition {'A': 0, 'B': 0}\n",
      "Cleaning mode {'A': 'L', 'B': 'T'}\n"
     ]
    }
   ],
   "source": [
    "# This is  a model based agent\n",
    "import random\n",
    "class Environment (object):\n",
    "    def __init__(self):\n",
    "        self.location = ['A', 'B']\n",
    "        self.locationCondition = {'A': '0', \n",
    "                                  'B': '0'}\n",
    "        self.vaccumLocation = random.choice(self.location)\n",
    "        self.locationCondition['A'] = random.randint(0, 1)\n",
    "        self.locationCondition['B'] = random.randint(0, 1)\n",
    "        \n",
    "        self.cleaningMethod = {'A': 'L',\n",
    "                               'B': 'T'}\n",
    "        \n",
    "class Agent (Environment):\n",
    "    def __init__ (self, Environment):\n",
    "        print('The location is', Environment.vaccumLocation)\n",
    "        print('The condition is', Environment.locationCondition)\n",
    "        print('Cleaning mode', Environment.cleaningMethod)\n",
    "        \n",
    "        count = 0\n",
    "        while count<2:\n",
    "            if Environment.locationCondition[Environment.vaccumLocation] == 1:\n",
    "                if Environment.cleaningMethod[Environment.vaccumLocation] == 'T':\n",
    "                    Environment.cleaningMethod[Environment.vaccumLocation] == 'L'\n",
    "                else:\n",
    "                    Environment.cleaningMethod[Environment.vaccumLocation] == 'L'\n",
    "                    Environment.cleaningMethod[Environment.vaccumLocation] == 'T'\n",
    "\n",
    "                Environment.locationCondition[Environment.vaccumLocation] = 0\n",
    "                print(Environment.vaccumLocation, 'Has been cleaned')\n",
    "                \n",
    "            else:\n",
    "                 print(Environment.vaccumLocation, 'Is clean')\n",
    "                    \n",
    "            newIndex = Environment.location.index(Environment.vaccumLocation) + 1\n",
    "            if newIndex == 2:\n",
    "                newIndex = 0\n",
    "            Environment.vaccumLocation = Environment.location[newIndex]\n",
    "            count += 1\n",
    "        print('Location Condition', Environment.locationCondition)\n",
    "        print('Cleaning mode', Environment.cleaningMethod)\n",
    "        \n",
    "x = 0\n",
    "while x<2:\n",
    "    myEnvironnment = Environment()\n",
    "    myAgent = Agent(myEnvironnment)\n",
    "    x += 1\n"
   ]
  },
  {
   "cell_type": "code",
   "execution_count": null,
   "id": "d61e8277",
   "metadata": {},
   "outputs": [],
   "source": []
  }
 ],
 "metadata": {
  "kernelspec": {
   "display_name": "Python 3 (ipykernel)",
   "language": "python",
   "name": "python3"
  },
  "language_info": {
   "codemirror_mode": {
    "name": "ipython",
    "version": 3
   },
   "file_extension": ".py",
   "mimetype": "text/x-python",
   "name": "python",
   "nbconvert_exporter": "python",
   "pygments_lexer": "ipython3",
   "version": "3.9.7"
  }
 },
 "nbformat": 4,
 "nbformat_minor": 5
}

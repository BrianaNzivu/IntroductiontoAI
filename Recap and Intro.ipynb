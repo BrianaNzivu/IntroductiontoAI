{
 "cells": [
  {
   "cell_type": "code",
   "execution_count": 9,
   "id": "cc5beade",
   "metadata": {},
   "outputs": [
    {
     "name": "stdout",
     "output_type": "stream",
     "text": [
      "['Brian', 'Milani', 'Mickey', 'Gigi']\n",
      "<class 'list'>\n",
      "Mickey\n",
      "Miko\n",
      "['Brian', 'Mickey', 'Miko', 'Milani', 'Jack']\n"
     ]
    }
   ],
   "source": [
    "# How lists work\n",
    "\n",
    "x = ['Brian', 'Milani', 'Mickey', 'Gigi']\n",
    "print (x)\n",
    "print (type (x))\n",
    "print (x[2])\n",
    "x[3] = ('Miko')\n",
    "print (x[3])\n",
    "x.sort()\n",
    "\n",
    "x.append('Jack')\n",
    "print (x)"
   ]
  },
  {
   "cell_type": "code",
   "execution_count": 14,
   "id": "fbf7647d",
   "metadata": {},
   "outputs": [
    {
     "name": "stdout",
     "output_type": "stream",
     "text": [
      "<class 'tuple'>\n",
      "('Brian', 'Milani', 'Mickey', 'Gigi')\n",
      "Gigi\n",
      "4\n"
     ]
    }
   ],
   "source": [
    "# How tuples work\n",
    "\n",
    "x = ('Brian', 'Milani', 'Mickey', 'Gigi')\n",
    "print (type (x))\n",
    "print(x)\n",
    "print (x[3])\n",
    "print (len(x))"
   ]
  },
  {
   "cell_type": "code",
   "execution_count": 19,
   "id": "432fa7e4",
   "metadata": {},
   "outputs": [
    {
     "name": "stdout",
     "output_type": "stream",
     "text": [
      "{'Brian', 'Mickey', 'Gigi', 'Milani'}\n",
      "<class 'set'>\n",
      "{'Brian', 'Mickey', 'Gigi', 'Milani'}\n",
      "4\n"
     ]
    }
   ],
   "source": [
    "# How sets work\n",
    "\n",
    "x = {'Brian', 'Milani', 'Mickey', 'Gigi'}\n",
    "print (x)\n",
    "print (type (x))\n",
    "print (x)\n",
    "print (len(x))"
   ]
  },
  {
   "cell_type": "code",
   "execution_count": 25,
   "id": "29afeb5c",
   "metadata": {},
   "outputs": [
    {
     "name": "stdout",
     "output_type": "stream",
     "text": [
      "{'Number': [100, 200, 300], 'Name:': ['Alexy', 'Joe', 'Lily']}\n",
      "<class 'dict'>\n",
      "{'Number': [100, 200, 300], 'Name:': ['Alexy', 'Joe', 'Lily'], 'Name': ['Mark', 'Ken', 'Jack']}\n"
     ]
    }
   ],
   "source": [
    "# How dictonaries work\n",
    "x = { 'Number': [100, 200, 300],\n",
    "      'Name:': ['Alexy', 'Joe', 'Lily']}\n",
    "print (x)\n",
    "print (type (x))\n",
    "#print(x[\"Name\"])\n",
    "x[\"Name\"] = ['Mark', 'Ken','Jack']\n",
    "print (x)"
   ]
  },
  {
   "cell_type": "code",
   "execution_count": 26,
   "id": "ffc915b3",
   "metadata": {},
   "outputs": [
    {
     "name": "stdout",
     "output_type": "stream",
     "text": [
      "The student name is:  Ken\n",
      "The student number is:  111\n"
     ]
    }
   ],
   "source": [
    "# Object oriented programming\n",
    "\n",
    "class Student:\n",
    "    def __init__ (self, Name, Number):\n",
    "        self.Name = Name\n",
    "        self.Number = Number\n",
    "        \n",
    "    def display(self):\n",
    "        print ('The student name is: ', self.Name)\n",
    "        print ('The student number is: ', self.Number)\n",
    "        \n",
    "s1 = Student('Ken', 111)\n",
    "s1.display()\n"
   ]
  },
  {
   "cell_type": "code",
   "execution_count": 30,
   "id": "d235f579",
   "metadata": {},
   "outputs": [
    {
     "name": "stdout",
     "output_type": "stream",
     "text": [
      "The student name is:  Ken\n",
      "The student number is:  111\n",
      "The student Score is:  80\n"
     ]
    }
   ],
   "source": [
    "# How inheritance works \n",
    "\n",
    "class Person:\n",
    "    def __init__ (self, Name, Number):\n",
    "        self.Name = Name\n",
    "        self.Number = Number\n",
    "        \n",
    "    def display(self):\n",
    "        print ('The student name is: ', self.Name)\n",
    "        print ('The student number is: ', self.Number)\n",
    "\n",
    "class Student(Person):\n",
    "    def __init__ (self, Name, Number, Score):\n",
    "        Person .__init__(self, Name, Number)\n",
    "        self.Score = Score\n",
    "        \n",
    "    def display2(self):\n",
    "        Person.display(self)\n",
    "        print ('The student Score is: ', self.Score)\n",
    "\n",
    "        \n",
    "s1 = Student('Ken', 111, 80)\n",
    "s1.display2()"
   ]
  },
  {
   "cell_type": "code",
   "execution_count": 31,
   "id": "64ff209c",
   "metadata": {},
   "outputs": [
    {
     "name": "stderr",
     "output_type": "stream",
     "text": [
      "Matplotlib is building the font cache; this may take a moment.\n"
     ]
    },
    {
     "data": {
      "image/png": "[encoded data removed]",
      "text/plain": [
       "<Figure size 432x288 with 1 Axes>"
      ]
     },
     "metadata": {
      "needs_background": "light"
     },
     "output_type": "display_data"
    }
   ],
   "source": [
    "# libraries and visulaization\n",
    "\n",
    "import matplotlib.pyplot as plt\n",
    "import numpy as np\n",
    "x = np.random.randint(100, size = (100))\n",
    "y = np.random.randint(100, size = (100))\n",
    "x.sort()\n",
    "y.sort()\n",
    "plt.plot(x,y)\n",
    "plt.show()"
   ]
  },
  {
   "cell_type": "code",
   "execution_count": 32,
   "id": "d6b8af41",
   "metadata": {},
   "outputs": [
    {
     "data": {
      "image/png": "[encoded data removed]",
      "text/plain": [
       "<Figure size 432x288 with 1 Axes>"
      ]
     },
     "metadata": {
      "needs_background": "light"
     },
     "output_type": "display_data"
    }
   ],
   "source": [
    "import matplotlib.pyplot as plt\n",
    "import numpy as np\n",
    "x = np.random.randint(100, size = (100))\n",
    "y = np.random.randint(100, size = (100))\n",
    "x.sort()\n",
    "y.sort()\n",
    "plt.hist(x,y)\n",
    "plt.show()"
   ]
  },
  {
   "cell_type": "code",
   "execution_count": null,
   "id": "33fe6060",
   "metadata": {},
   "outputs": [],
   "source": []
  }
 ],
 "metadata": {
  "kernelspec": {
   "display_name": "Python 3 (ipykernel)",
   "language": "python",
   "name": "python3"
  },
  "language_info": {
   "codemirror_mode": {
    "name": "ipython",
    "version": 3
   },
   "file_extension": ".py",
   "mimetype": "text/x-python",
   "name": "python",
   "nbconvert_exporter": "python",
   "pygments_lexer": "ipython3",
   "version": "3.9.7"
  }
 },
 "nbformat": 4,
 "nbformat_minor": 5
}

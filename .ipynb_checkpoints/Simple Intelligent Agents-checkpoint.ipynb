{
 "cells": [
  {
   "cell_type": "code",
   "execution_count": 18,
   "id": "e1252697",
   "metadata": {},
   "outputs": [
    {
     "name": "stdout",
     "output_type": "stream",
     "text": [
      "The location condition is {'A': 0, 'B': 0}\n",
      "The vaccum is placed at location B\n",
      "B is clean\n",
      "A is clean\n",
      "{'A': 0, 'B': 0}\n"
     ]
    }
   ],
   "source": [
    "# This is a simple vaccum cleaner reflex agent\n",
    "import random\n",
    "\n",
    "class Environment(object):\n",
    "    def __init__(self):\n",
    "        # instantiate the locations and conditions. 0 = clean and 1 = dirty\n",
    "        self.location = ['A', 'B']\n",
    "        self.locationCondition = {'A':'0', 'B':'0'}\n",
    "        \n",
    "        # randomize location conditions andplacing vaccum in a random location\n",
    "        self.locationCondition['A'] = random.randint(0,1)\n",
    "        self.locationCondition['B'] = random.randint(0,1)\n",
    "        self.vaccumLocation = random.choice(self.location)\n",
    "\n",
    "class Agent(Environment):\n",
    "    def __init__(self, Environment):\n",
    "        print('The location condition is', Environment.locationCondition)\n",
    "        print('The vaccum is placed at location', Environment.vaccumLocation)\n",
    "        \n",
    "        # actuator condition\n",
    "        count = 0\n",
    "        while count<2:\n",
    "            if Environment.locationCondition[Environment.vaccumLocation] == 1:\n",
    "                Environment.locationCondition[Environment.vaccumLocation] = 0;\n",
    "                print(Environment.vaccumLocation, 'has been cleaned')\n",
    "            else:\n",
    "                print(Environment.vaccumLocation, 'is clean')\n",
    "            \n",
    "            newIndex = Environment.location.index(Environment.vaccumLocation) + 1\n",
    "            if newIndex == 2:\n",
    "                newIndex = 0\n",
    "            Environment.vaccumLocation = Environment.location[newIndex]\n",
    "            count += 1\n",
    "            \n",
    "        # done cleaning\n",
    "        print(Environment.locationCondition)\n",
    "        \n",
    "myEnvironnment = Environment()\n",
    "myAgent = Agent(myEnvironnment)\n",
    "\n",
    "        \n",
    "        "
   ]
  }
 ],
 "metadata": {
  "kernelspec": {
   "display_name": "Python 3 (ipykernel)",
   "language": "python",
   "name": "python3"
  },
  "language_info": {
   "codemirror_mode": {
    "name": "ipython",
    "version": 3
   },
   "file_extension": ".py",
   "mimetype": "text/x-python",
   "name": "python",
   "nbconvert_exporter": "python",
   "pygments_lexer": "ipython3",
   "version": "3.10.6"
  }
 },
 "nbformat": 4,
 "nbformat_minor": 5
}

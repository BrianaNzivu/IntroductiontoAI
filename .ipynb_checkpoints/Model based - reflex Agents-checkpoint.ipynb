{
 "cells": [
  {
   "cell_type": "code",
   "execution_count": 28,
   "id": "c15d2a24",
   "metadata": {},
   "outputs": [
    {
     "name": "stdout",
     "output_type": "stream",
     "text": [
      "Visit no:  0\n",
      "Vaccum Location is B\n",
      "Location Condiotion is {'A': 1, 'B': 1}\n",
      "Previous Cleaning Method is {'A': 'T', 'B': 'L'}\n",
      "B Has been cleaned\n",
      "A Has been cleaned\n",
      "Location Condition {'A': 0, 'B': 0}\n",
      "Cleaning Mode used {'A': 'T', 'B': 'L'}\n",
      "Visit no:  1\n",
      "Vaccum Location is A\n",
      "Location Condiotion is {'A': 1, 'B': 0}\n",
      "Previous Cleaning Method is {'A': 'L', 'B': 'T'}\n",
      "A Has been cleaned\n",
      "B Is clean\n",
      "Location Condition {'A': 0, 'B': 0}\n",
      "Cleaning Mode used {'A': 'L', 'B': 'T'}\n"
     ]
    }
   ],
   "source": [
    "# Modal-based reflex agent (vaccum cleaner)       \n",
    "import random\n",
    "\n",
    "class Environment (object):\n",
    "    def __init__(self):\n",
    "        #instanciate location and conditions\n",
    "        # 0 = clean and 1 = dirty\n",
    "        self.location = ['A', 'B']\n",
    "        self.locationCondition = {'A': '0', 'B': '0'}\n",
    "        self.vaccumLocation = random.choice(self.location)\n",
    "        \n",
    "        # place vaccum at random place and Cleaning methods where L=lIGHT and T=THOROUGH\n",
    "        self.locationCondition['A'] = random.randint(0, 1)\n",
    "        self.locationCondition['B'] = random.randint(0, 1)\n",
    "        \n",
    "        self.cleaningMethod = {'A': 'L', 'B': 'T'}\n",
    "        \n",
    "        # Randomize cleaning methods\n",
    "        self.cleaningMethod['A'] = random.choice(['L', 'T'])\n",
    "        self.cleaningMethod['B'] = random.choice(['L', 'T'])\n",
    "        \n",
    "class Agent (Environment):\n",
    "    def __init__ (self, Environment):\n",
    "        print('Vaccum Location is' , Environment.vaccumLocation)\n",
    "        print('Location Condiotion is', Environment.locationCondition)\n",
    "        print('Previous Cleaning Method is', Environment.cleaningMethod)\n",
    "        \n",
    "        count = 0\n",
    "        while count<2:\n",
    "            if Environment.locationCondition[Environment.vaccumLocation] == 1:\n",
    "                if Environment.cleaningMethod[Environment.vaccumLocation] == 'T':\n",
    "                    Environment.cleaningMethod[Environment.vaccumLocation] == 'L'\n",
    "                else:\n",
    "                    Environment.cleaningMethod[Environment.vaccumLocation] == 'L'\n",
    "                    Environment.cleaningMethod[Environment.vaccumLocation] == 'T'\n",
    "\n",
    "                Environment.locationCondition[Environment.vaccumLocation] = 0\n",
    "                print(Environment.vaccumLocation, 'Has been cleaned')\n",
    "                \n",
    "            else:\n",
    "                 print(Environment.vaccumLocation, 'Is clean')\n",
    "                    \n",
    "            newIndex = Environment.location.index(Environment.vaccumLocation) + 1\n",
    "            if newIndex == 2:\n",
    "                newIndex = 0\n",
    "            Environment.vaccumLocation = Environment.location[newIndex]\n",
    "            count += 1\n",
    "            \n",
    "        print('Location Condition', Environment.locationCondition)\n",
    "        print ('Cleaning Mode used', Environment.cleaningMethod)\n",
    "            \n",
    "x = 0\n",
    "while x<2:\n",
    "    print('Visit no: ', x)\n",
    "    myEnvironnment = Environment()\n",
    "    myAgent = Agent(myEnvironnment)\n",
    "    x += 1"
   ]
  }
 ],
 "metadata": {
  "kernelspec": {
   "display_name": "Python 3 (ipykernel)",
   "language": "python",
   "name": "python3"
  },
  "language_info": {
   "codemirror_mode": {
    "name": "ipython",
    "version": 3
   },
   "file_extension": ".py",
   "mimetype": "text/x-python",
   "name": "python",
   "nbconvert_exporter": "python",
   "pygments_lexer": "ipython3",
   "version": "3.10.6"
  }
 },
 "nbformat": 4,
 "nbformat_minor": 5
}

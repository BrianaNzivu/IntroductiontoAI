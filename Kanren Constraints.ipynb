{
 "cells": [
  {
   "cell_type": "code",
   "execution_count": 1,
   "id": "34cb9176",
   "metadata": {},
   "outputs": [
    {
     "name": "stdout",
     "output_type": "stream",
     "text": [
      "(5,)\n"
     ]
    }
   ],
   "source": [
    "from kanren import *\n",
    "# x = 5, what is x?\n",
    "\n",
    "x = var()\n",
    "print(run(0, x, eq(x, 5)))\n",
    "\n"
   ]
  },
  {
   "cell_type": "markdown",
   "id": "b325ac13",
   "metadata": {},
   "source": [
    "# Eq Constraint"
   ]
  },
  {
   "cell_type": "code",
   "execution_count": 2,
   "id": "5975fa01",
   "metadata": {},
   "outputs": [
    {
     "name": "stdout",
     "output_type": "stream",
     "text": [
      "([5, 5],)\n"
     ]
    }
   ],
   "source": [
    "# x = 5, x = z, what is z?\n",
    "\n",
    "x, z = var(), var()\n",
    "print(run(0, [z, x], eq(x, 5), eq(x, z)))"
   ]
  },
  {
   "cell_type": "markdown",
   "id": "3123a8d6",
   "metadata": {},
   "source": [
    "# MemberO Constraint"
   ]
  },
  {
   "cell_type": "code",
   "execution_count": 6,
   "id": "852be27e",
   "metadata": {},
   "outputs": [
    {
     "name": "stdout",
     "output_type": "stream",
     "text": [
      "(2, 3)\n"
     ]
    }
   ],
   "source": [
    "# x is a member of 1,2,3 and x is a member of 2,3,4. What is x?\n",
    "\n",
    "print(run(0, x, membero(x,(1,2,3)), membero(x,(2,3,4))))"
   ]
  },
  {
   "cell_type": "markdown",
   "id": "3c2ceccf",
   "metadata": {},
   "source": [
    "# Not Equal to constraint"
   ]
  },
  {
   "cell_type": "code",
   "execution_count": 10,
   "id": "b7a5c9ce",
   "metadata": {
    "scrolled": true
   },
   "outputs": [
    {
     "name": "stdout",
     "output_type": "stream",
     "text": [
      "(2, 3)\n"
     ]
    }
   ],
   "source": [
    "from kanren.constraints import *\n",
    "# x is either 1,2 or 3. X is not 1\n",
    "\n",
    "print(run(0, x, neq(x, 1), membero(x,(1,2,3))))"
   ]
  },
  {
   "cell_type": "markdown",
   "id": "c94f6cff",
   "metadata": {},
   "source": [
    "# instance of constraint"
   ]
  },
  {
   "cell_type": "code",
   "execution_count": 11,
   "id": "6c2e62c9",
   "metadata": {},
   "outputs": [
    {
     "name": "stdout",
     "output_type": "stream",
     "text": [
      "(2,)\n"
     ]
    }
   ],
   "source": [
    "# x is either 1.1, 2 or 3.3, x is an interger.What is x?\n",
    "\n",
    "from kanren.constraints import *\n",
    "\n",
    "print(run(0, x, isinstanceo(x, int), membero(x, (1.1, 2, 3.3))))"
   ]
  },
  {
   "cell_type": "markdown",
   "id": "2f1dfa11",
   "metadata": {},
   "source": [
    "# Modus Ponen"
   ]
  },
  {
   "cell_type": "code",
   "execution_count": 15,
   "id": "a92c1c1d",
   "metadata": {},
   "outputs": [
    {
     "name": "stdout",
     "output_type": "stream",
     "text": [
      "(False,)\n"
     ]
    }
   ],
   "source": [
    "# Modus Ponen\n",
    "# if p --> q, (p,q)\n",
    "\n",
    "p,q = var(), var()\n",
    "print(run(0, q, eq(p,q), membero(p, (True, False)), membero(q, (True, False)), eq(p, False)))"
   ]
  },
  {
   "cell_type": "code",
   "execution_count": null,
   "id": "a3098d80",
   "metadata": {},
   "outputs": [],
   "source": []
  }
 ],
 "metadata": {
  "kernelspec": {
   "display_name": "Python 3 (ipykernel)",
   "language": "python",
   "name": "python3"
  },
  "language_info": {
   "codemirror_mode": {
    "name": "ipython",
    "version": 3
   },
   "file_extension": ".py",
   "mimetype": "text/x-python",
   "name": "python",
   "nbconvert_exporter": "python",
   "pygments_lexer": "ipython3",
   "version": "3.9.7"
  }
 },
 "nbformat": 4,
 "nbformat_minor": 5
}

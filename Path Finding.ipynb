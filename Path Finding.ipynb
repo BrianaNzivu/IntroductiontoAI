{
 "cells": [
  {
   "cell_type": "code",
   "execution_count": 5,
   "id": "40a74bf2",
   "metadata": {},
   "outputs": [
    {
     "name": "stdout",
     "output_type": "stream",
     "text": [
      "Vertex and path:  2 ['2']\n",
      "stack: []\n",
      "stack two: [('1', ['2', '1'])]\n",
      "Vertex and path:  1 ['2', '1']\n",
      "stack: []\n",
      "stack two: [('3', ['2', '1', '3'])]\n",
      "Vertex and path:  3 ['2', '1', '3']\n",
      "stack: []\n",
      "Dfs:  [['2', '4'], ['2', '1', '3', '4']]\n"
     ]
    }
   ],
   "source": [
    "#depth search path\n",
    "class Environment(object):\n",
    "    myGraph = {'1': set(['2','3']),\n",
    "               '2': set(['1','4']),\n",
    "               '3': set(['1','4']),\n",
    "               '4': set(['2','3'])\n",
    "              }\n",
    "    state = '2'\n",
    "    goal = '4'\n",
    "    \n",
    "class Agent(Environment):\n",
    "    def dfs(self, graph, start, goal):\n",
    "        stack = [(start,[start])]\n",
    "        p = []\n",
    "        while stack:\n",
    "            (vertex, path) = stack.pop()\n",
    "            print('Vertex and path: ', vertex, path)\n",
    "            print('stack:', stack)\n",
    "        \n",
    "            for next in graph[vertex] - set(path):\n",
    "                if next == goal:\n",
    "                    p.append(path + [next])\n",
    "                else:\n",
    "                    stack.append((next, path + [next]))\n",
    "                    print('stack two:', stack)\n",
    "        \n",
    "        return p\n",
    "    \n",
    "    def __init__(self, Environment):\n",
    "        print('Dfs: ', self.dfs(Environment.myGraph, Environment.state, Environment.goal))\n",
    "\n",
    "myEnvironment = Environment()\n",
    "myAgent = Agent(myEnvironment)"
   ]
  },
  {
   "cell_type": "code",
   "execution_count": 7,
   "id": "be66d584",
   "metadata": {},
   "outputs": [
    {
     "name": "stdout",
     "output_type": "stream",
     "text": [
      "Vertex and path:  2 ['2']\n",
      "stack: []\n",
      "bfs:  [['2', '4']]\n"
     ]
    }
   ],
   "source": [
    "#breadth search path\n",
    "class Environment(object):\n",
    "    myGraph = {'1': set(['2','3']),\n",
    "               '2': set(['1','4']),\n",
    "               '3': set(['1','4']),\n",
    "               '4': set(['2','3'])\n",
    "              }\n",
    "    state = '2'\n",
    "    goal = '4'\n",
    "    \n",
    "class Agent(Environment):\n",
    "    def bfs(self, graph, start, goal):\n",
    "        stack = [(start,[start])]\n",
    "        p = []\n",
    "        while stack:\n",
    "            (vertex, path) = stack.pop(0)\n",
    "            print('Vertex and path: ', vertex, path)\n",
    "            print('stack:', stack)\n",
    "        \n",
    "            for next in graph[vertex] - set(path):\n",
    "                if next == goal:\n",
    "                    p.append(path + [next])\n",
    "                    return p\n",
    "                else:\n",
    "                    stack.append((next, path + [next]))\n",
    "                    print('stack two:', stack)\n",
    "        \n",
    "        return p\n",
    "    \n",
    "    def __init__(self, Environment):\n",
    "        print('bfs: ', self.bfs(Environment.myGraph, Environment.state, Environment.goal))\n",
    "\n",
    "myEnvironment = Environment()\n",
    "myAgent = Agent(myEnvironment)"
   ]
  },
  {
   "cell_type": "code",
   "execution_count": null,
   "id": "26c350af",
   "metadata": {},
   "outputs": [],
   "source": []
  }
 ],
 "metadata": {
  "kernelspec": {
   "display_name": "Python 3 (ipykernel)",
   "language": "python",
   "name": "python3"
  },
  "language_info": {
   "codemirror_mode": {
    "name": "ipython",
    "version": 3
   },
   "file_extension": ".py",
   "mimetype": "text/x-python",
   "name": "python",
   "nbconvert_exporter": "python",
   "pygments_lexer": "ipython3",
   "version": "3.9.7"
  }
 },
 "nbformat": 4,
 "nbformat_minor": 5
}
